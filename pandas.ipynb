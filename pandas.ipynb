{
 "cells": [
  {
   "cell_type": "markdown",
   "metadata": {},
   "source": [
    "# Pandas Notes\n",
    "\n",
    "Sample data is installed from kaggle: https://www.kaggle.com/datasets/jayaantanaath/student-habits-vs-academic-performance"
   ]
  },
  {
   "cell_type": "markdown",
   "metadata": {},
   "source": [
    "## Ch1: Data Manipulation"
   ]
  },
  {
   "cell_type": "code",
   "execution_count": 66,
   "metadata": {},
   "outputs": [
    {
     "name": "stdout",
     "output_type": "stream",
     "text": [
      "Index(['student_id', 'age', 'gender', 'study_hours_per_day',\n",
      "       'social_media_hours', 'netflix_hours', 'part_time_job',\n",
      "       'attendance_percentage', 'sleep_hours', 'diet_quality',\n",
      "       'exercise_frequency', 'parental_education_level', 'internet_quality',\n",
      "       'mental_health_rating', 'extracurricular_participation', 'exam_score'],\n",
      "      dtype='object')\n"
     ]
    }
   ],
   "source": [
    "import pandas as pd\n",
    "\n",
    "## import csv file\n",
    "df_full = pd.read_csv(\"student_habits_performance.csv\")\n",
    "print(df_full.columns)"
   ]
  },
  {
   "cell_type": "code",
   "execution_count": 67,
   "metadata": {},
   "outputs": [
    {
     "name": "stdout",
     "output_type": "stream",
     "text": [
      "  student_id  age  gender  study_hours_per_day  social_media_hours\n",
      "0      S1000   23  Female                  0.0                 1.2\n",
      "1      S1001   20  Female                  6.9                 2.8\n",
      "2      S1002   21    Male                  1.4                 3.1\n",
      "3      S1003   23  Female                  1.0                 3.9\n",
      "4      S1004   19  Female                  5.0                 4.4\n"
     ]
    }
   ],
   "source": [
    "## Select specific columns of dataframe\n",
    "df = df_full[[\"student_id\", \"age\", \"gender\",\"study_hours_per_day\",\"social_media_hours\"]]\n",
    "print(df.head())"
   ]
  },
  {
   "cell_type": "code",
   "execution_count": 68,
   "metadata": {},
   "outputs": [
    {
     "name": "stdout",
     "output_type": "stream",
     "text": [
      "Index(['student_id', 'age', 'gender', 'study_hours_per_day',\n",
      "       'social_media_hours'],\n",
      "      dtype='object') \n",
      "\n",
      "(1000, 5)\n"
     ]
    }
   ],
   "source": [
    "## print basic information of dataframe\n",
    "\n",
    "print(df.columns, \"\\n\")\n",
    "print(df.shape)"
   ]
  },
  {
   "cell_type": "code",
   "execution_count": 69,
   "metadata": {},
   "outputs": [
    {
     "name": "stdout",
     "output_type": "stream",
     "text": [
      "    student_id  age  gender  study_hours_per_day  social_media_hours\n",
      "58       S1058   19  Female                  2.2                 5.0\n",
      "145      S1145   23  Female                  2.2                 6.2\n",
      "311      S1311   23  Female                  2.6                 5.3\n",
      "368      S1368   19  Female                  2.8                 5.0\n",
      "384      S1384   21  Female                  2.6                 5.4\n"
     ]
    }
   ],
   "source": [
    "## Conditional subset \n",
    "\n",
    "female_df_high = df[(df[\"gender\"]==\"Female\") & (df[\"social_media_hours\"]>=5)]\n",
    "print(female_df_high.head())"
   ]
  },
  {
   "cell_type": "code",
   "execution_count": 70,
   "metadata": {},
   "outputs": [
    {
     "name": "stdout",
     "output_type": "stream",
     "text": [
      "    student_id  age  gender  study_hours_per_day  social_media_hours\n",
      "678      S1678   18  Female                  3.5                 5.2\n",
      "414      S1414   19  Female                  4.2                 5.6\n",
      "58       S1058   19  Female                  2.2                 5.0\n",
      "368      S1368   19  Female                  2.8                 5.0\n",
      "384      S1384   21  Female                  2.6                 5.4\n",
      "145      S1145   23  Female                  2.2                 6.2\n",
      "311      S1311   23  Female                  2.6                 5.3\n",
      "829      S1829   24  Female                  4.1                 5.4\n"
     ]
    }
   ],
   "source": [
    "## Sort by age then social_media_hours \n",
    "\n",
    "female_df_high = female_df_high.sort_values([\"age\", \"social_media_hours\"], ascending=[True, False])\n",
    "print(female_df_high)"
   ]
  },
  {
   "cell_type": "code",
   "execution_count": 71,
   "metadata": {},
   "outputs": [
    {
     "name": "stdout",
     "output_type": "stream",
     "text": [
      "exercise_frequency\n",
      "0    144\n",
      "1    146\n",
      "2    122\n",
      "3    153\n",
      "4    134\n",
      "5    149\n",
      "6    152\n",
      "Name: count, dtype: int64\n"
     ]
    }
   ],
   "source": [
    "## Count values of 'exercise_frequency'\n",
    "\n",
    "print(df_full['exercise_frequency'].value_counts().sort_index())"
   ]
  },
  {
   "cell_type": "markdown",
   "metadata": {},
   "source": [
    "## Ch2: Summary Statstics "
   ]
  },
  {
   "cell_type": "code",
   "execution_count": 72,
   "metadata": {},
   "outputs": [
    {
     "name": "stdout",
     "output_type": "stream",
     "text": [
      "mean age:  20.498\n",
      "mode age:  0    20\n",
      "Name: age, dtype: int64\n",
      "median age:  20.0\n"
     ]
    }
   ],
   "source": [
    "## mean, median, mode\n",
    "print(\"mean age: \", df[\"age\"].mean())\n",
    "print(\"mode age: \", df[\"age\"].mode())\n",
    "print(\"median age: \", df[\"age\"].median())"
   ]
  },
  {
   "cell_type": "code",
   "execution_count": 73,
   "metadata": {},
   "outputs": [
    {
     "name": "stdout",
     "output_type": "stream",
     "text": [
      "420.16800400000005\n"
     ]
    }
   ],
   "source": [
    "## Customize aggreate function\n",
    "\n",
    "def spec(col):\n",
    "    return (col.mean() ** 2)\n",
    "\n",
    "print(df[\"age\"].agg(spec))\n"
   ]
  },
  {
   "cell_type": "code",
   "execution_count": 74,
   "metadata": {},
   "outputs": [],
   "source": [
    "### Cumsum\n",
    "\n",
    "df_smh = df[[\"social_media_hours\"]]\n",
    "df_smh_cumsum = df_smh.cumsum()\n",
    "df_smh.index = [x+1 for x in df_smh.index] # Reindex to start from 1\n",
    "df_smh_cumsum.index = [x+1 for x in df_smh_cumsum.index] # Reindex to start from 1"
   ]
  },
  {
   "cell_type": "code",
   "execution_count": 79,
   "metadata": {},
   "outputs": [
    {
     "data": {
      "image/png": "[encoded data removed]",
      "text/plain": [
       "<Figure size 640x480 with 1 Axes>"
      ]
     },
     "metadata": {},
     "output_type": "display_data"
    }
   ],
   "source": [
    "### Cumsum graph\n",
    "import matplotlib.pyplot as plt\n",
    "plt.plot(df_smh, label=\"social media hours\")\n",
    "plt.plot(df_smh_cumsum, label=\"culmulative sum of smh\")\n",
    "plt.legend()\n",
    "plt.show()"
   ]
  },
  {
   "cell_type": "code",
   "execution_count": 88,
   "metadata": {},
   "outputs": [
    {
     "name": "stdout",
     "output_type": "stream",
     "text": [
      "age  gender\n",
      "17   Female    136.0\n",
      "     Male      166.5\n",
      "     Other      15.6\n",
      "18   Female    160.5\n",
      "     Male      143.0\n",
      "Name: social_media_hours, dtype: float64\n"
     ]
    }
   ],
   "source": [
    "## Drop duplicates \n",
    "df_unique_age_gender = df.drop_duplicates(subset=[\"age\", \"gender\"])\n",
    "\n",
    "## groupby (must need to use aggregate function otherwise it doesn't make sense)\n",
    "print(df.groupby([\"age\", \"gender\"])[\"social_media_hours\"].sum().head())"
   ]
  },
  {
   "cell_type": "code",
   "execution_count": null,
   "metadata": {},
   "outputs": [
    {
     "name": "stdout",
     "output_type": "stream",
     "text": [
      "age  gender\n",
      "17   Female    2.2\n",
      "     Male      2.5\n",
      "     Other     3.1\n",
      "18   Female    3.1\n",
      "     Male      2.2\n",
      "Name: social_media_hours, dtype: float64\n"
     ]
    }
   ],
   "source": [
    "## Only allow one age, gender pair\n",
    "print(df_unique_age_gender.groupby([\"age\", \"gender\"])[\"social_media_hours\"].sum().head())"
   ]
  },
  {
   "attachments": {
    "image.png": {
     "image/png": "[encoded data removed]"
    }
   },
   "cell_type": "markdown",
   "metadata": {},
   "source": [
    "### Pivot table parameters\n",
    "![image.png](attachment:image.png)\n",
    "\n",
    "and aggfunc=\"mean\""
   ]
  },
  {
   "cell_type": "code",
   "execution_count": 98,
   "metadata": {},
   "outputs": [
    {
     "name": "stdout",
     "output_type": "stream",
     "text": [
      "        social_media_hours\n",
      "gender                    \n",
      "Female            2.503950\n",
      "Male              2.499371\n",
      "Other             2.592857\n",
      "\n",
      "\n",
      "                      sum             median                max\n",
      "       social_media_hours social_media_hours social_media_hours\n",
      "gender                                                         \n",
      "Female             1204.4               2.50                6.2\n",
      "Male               1192.2               2.50                7.2\n",
      "Other               108.9               2.45                4.9\n",
      "\n",
      "\n",
      "age           17        18        19        20        21        22        23  \\\n",
      "gender                                                                         \n",
      "Female  2.344828  2.720339  2.372131  2.420270  2.547619  2.370000  2.515686   \n",
      "Male    2.413043  2.648148  2.636735  2.692308  2.574545  2.521569  2.374194   \n",
      "Other   2.600000  2.375000  2.200000  3.142857  1.714286  2.300000  3.133333   \n",
      "\n",
      "age           24  \n",
      "gender            \n",
      "Female  2.783636  \n",
      "Male    2.237500  \n",
      "Other   2.828571  \n"
     ]
    },
    {
     "name": "stderr",
     "output_type": "stream",
     "text": [
      "/var/folders/31/yy58x4y13nq668wbsn7pdk2r0000gn/T/ipykernel_3155/1089519401.py:5: FutureWarning: The provided callable <function median at 0x10749f7e0> is currently using DataFrameGroupBy.median. In a future version of pandas, the provided callable will be used directly. To keep current behavior pass the string \"median\" instead.\n",
      "  print(df.pivot_table(index=\"gender\", values=\"social_media_hours\", aggfunc=[\"sum\", np.median, \"max\"])) # multiple aggfunc\n"
     ]
    }
   ],
   "source": [
    "import numpy as np\n",
    "\n",
    "print(df.pivot_table(index=\"gender\", values=\"social_media_hours\")) # default aggfunc is mean\n",
    "print(\"\\n\")\n",
    "print(df.pivot_table(index=\"gender\", values=\"social_media_hours\", aggfunc=[\"sum\", np.median, \"max\"])) # multiple aggfunc\n",
    "print(\"\\n\")\n",
    "print(df.pivot_table(index=\"gender\", columns=\"age\", values=\"social_media_hours\")) # multiple columns"
   ]
  },
  {
   "cell_type": "markdown",
   "metadata": {},
   "source": [
    "## Ch3: Indexs"
   ]
  },
  {
   "cell_type": "code",
   "execution_count": 99,
   "metadata": {},
   "outputs": [
    {
     "name": "stdout",
     "output_type": "stream",
     "text": [
      "  student_id  age  gender  study_hours_per_day  social_media_hours\n",
      "0      S1000   23  Female                  0.0                 1.2\n",
      "1      S1001   20  Female                  6.9                 2.8\n",
      "2      S1002   21    Male                  1.4                 3.1\n",
      "3      S1003   23  Female                  1.0                 3.9\n",
      "4      S1004   19  Female                  5.0                 4.4\n"
     ]
    }
   ],
   "source": [
    "print(df.head())"
   ]
  },
  {
   "cell_type": "code",
   "execution_count": 100,
   "metadata": {},
   "outputs": [
    {
     "name": "stdout",
     "output_type": "stream",
     "text": [
      "            age  gender  study_hours_per_day  social_media_hours\n",
      "student_id                                                      \n",
      "S1000        23  Female                  0.0                 1.2\n",
      "S1001        20  Female                  6.9                 2.8\n",
      "S1002        21    Male                  1.4                 3.1\n",
      "S1003        23  Female                  1.0                 3.9\n",
      "S1004        19  Female                  5.0                 4.4\n"
     ]
    }
   ],
   "source": [
    "## set index as student_id\n",
    "print(df.set_index(\"student_id\").head())"
   ]
  },
  {
   "cell_type": "code",
   "execution_count": 102,
   "metadata": {},
   "outputs": [
    {
     "name": "stdout",
     "output_type": "stream",
     "text": [
      "                   age  study_hours_per_day  social_media_hours\n",
      "student_id gender                                              \n",
      "S1000      Female   23                  0.0                 1.2\n",
      "S1001      Female   20                  6.9                 2.8\n",
      "S1002      Male     21                  1.4                 3.1\n",
      "S1003      Female   23                  1.0                 3.9\n",
      "S1004      Female   19                  5.0                 4.4\n"
     ]
    }
   ],
   "source": [
    "## set index as (student_id, gender) \n",
    "print(df.set_index([\"student_id\", \"gender\"]).head())"
   ]
  },
  {
   "cell_type": "code",
   "execution_count": 109,
   "metadata": {},
   "outputs": [
    {
     "data": {
      "text/plain": [
       "age                        23\n",
       "gender                 Female\n",
       "study_hours_per_day       1.0\n",
       "social_media_hours        3.9\n",
       "Name: S1003, dtype: object"
      ]
     },
     "execution_count": 109,
     "metadata": {},
     "output_type": "execute_result"
    }
   ],
   "source": [
    "## use .loc to get value directly\n",
    "df_sid = df.set_index(\"student_id\")\n",
    "df_sid.loc[\"S1003\"]"
   ]
  },
  {
   "cell_type": "code",
   "execution_count": 110,
   "metadata": {},
   "outputs": [
    {
     "name": "stdout",
     "output_type": "stream",
     "text": [
      "                   age  study_hours_per_day  social_media_hours\n",
      "student_id gender                                              \n",
      "S1999      Female   19                  4.3                 2.9\n",
      "S1998      Male     24                  5.4                 4.1\n",
      "S1997      Male     20                  3.0                 2.6\n",
      "S1996      Female   17                  2.9                 1.0\n",
      "S1995      Female   21                  2.6                 0.5\n"
     ]
    }
   ],
   "source": [
    "## sort index by level and ascedning\n",
    "df_sid_gen = df.set_index([\"student_id\", \"gender\"])\n",
    "df_sorted_sid_gen = df_sid_gen.sort_index(level=[\"student_id\", \"gender\"], ascending=[False, True])\n",
    "print(df_sorted_sid_gen.head())"
   ]
  },
  {
   "cell_type": "markdown",
   "metadata": {},
   "source": [
    "## Ch4: Slicing values\n",
    "\n",
    "but for .iloc the final value is not included \n",
    "\n",
    "df.loc[r1:r3, c1:c3]\n"
   ]
  },
  {
   "cell_type": "code",
   "execution_count": 112,
   "metadata": {},
   "outputs": [
    {
     "data": {
      "text/html": [
       "<div>\n",
       "<style scoped>\n",
       "    .dataframe tbody tr th:only-of-type {\n",
       "        vertical-align: middle;\n",
       "    }\n",
       "\n",
       "    .dataframe tbody tr th {\n",
       "        vertical-align: top;\n",
       "    }\n",
       "\n",
       "    .dataframe thead th {\n",
       "        text-align: right;\n",
       "    }\n",
       "</style>\n",
       "<table border=\"1\" class=\"dataframe\">\n",
       "  <thead>\n",
       "    <tr style=\"text-align: right;\">\n",
       "      <th></th>\n",
       "      <th>age</th>\n",
       "      <th>gender</th>\n",
       "      <th>study_hours_per_day</th>\n",
       "      <th>social_media_hours</th>\n",
       "    </tr>\n",
       "    <tr>\n",
       "      <th>student_id</th>\n",
       "      <th></th>\n",
       "      <th></th>\n",
       "      <th></th>\n",
       "      <th></th>\n",
       "    </tr>\n",
       "  </thead>\n",
       "  <tbody>\n",
       "    <tr>\n",
       "      <th>S1000</th>\n",
       "      <td>23</td>\n",
       "      <td>Female</td>\n",
       "      <td>0.0</td>\n",
       "      <td>1.2</td>\n",
       "    </tr>\n",
       "    <tr>\n",
       "      <th>S1001</th>\n",
       "      <td>20</td>\n",
       "      <td>Female</td>\n",
       "      <td>6.9</td>\n",
       "      <td>2.8</td>\n",
       "    </tr>\n",
       "    <tr>\n",
       "      <th>S1002</th>\n",
       "      <td>21</td>\n",
       "      <td>Male</td>\n",
       "      <td>1.4</td>\n",
       "      <td>3.1</td>\n",
       "    </tr>\n",
       "    <tr>\n",
       "      <th>S1003</th>\n",
       "      <td>23</td>\n",
       "      <td>Female</td>\n",
       "      <td>1.0</td>\n",
       "      <td>3.9</td>\n",
       "    </tr>\n",
       "    <tr>\n",
       "      <th>S1004</th>\n",
       "      <td>19</td>\n",
       "      <td>Female</td>\n",
       "      <td>5.0</td>\n",
       "      <td>4.4</td>\n",
       "    </tr>\n",
       "  </tbody>\n",
       "</table>\n",
       "</div>"
      ],
      "text/plain": [
       "            age  gender  study_hours_per_day  social_media_hours\n",
       "student_id                                                      \n",
       "S1000        23  Female                  0.0                 1.2\n",
       "S1001        20  Female                  6.9                 2.8\n",
       "S1002        21    Male                  1.4                 3.1\n",
       "S1003        23  Female                  1.0                 3.9\n",
       "S1004        19  Female                  5.0                 4.4"
      ]
     },
     "execution_count": 112,
     "metadata": {},
     "output_type": "execute_result"
    }
   ],
   "source": [
    "df_sid.head()"
   ]
  },
  {
   "cell_type": "code",
   "execution_count": 121,
   "metadata": {},
   "outputs": [
    {
     "name": "stdout",
     "output_type": "stream",
     "text": [
      "            age  gender  study_hours_per_day  social_media_hours\n",
      "student_id                                                      \n",
      "S1000        23  Female                  0.0                 1.2\n",
      "S1001        20  Female                  6.9                 2.8\n",
      "S1002        21    Male                  1.4                 3.1\n",
      "S1003        23  Female                  1.0                 3.9\n",
      "            age  gender  study_hours_per_day  social_media_hours\n",
      "student_id                                                      \n",
      "S1000        23  Female                  0.0                 1.2\n",
      "S1001        20  Female                  6.9                 2.8\n",
      "S1002        21    Male                  1.4                 3.1\n"
     ]
    }
   ],
   "source": [
    "print(df_sid.loc[\"S1000\":\"S1003\"]) # includes final value\n",
    "print(df_sid.iloc[0:3]) # does not include final value"
   ]
  },
  {
   "cell_type": "code",
   "execution_count": 126,
   "metadata": {},
   "outputs": [
    {
     "name": "stdout",
     "output_type": "stream",
     "text": [
      "            age  gender\n",
      "student_id             \n",
      "S1001        20  Female\n",
      "S1002        21    Male\n",
      "S1003        23  Female\n",
      "            age\n",
      "student_id     \n",
      "S1001        20\n",
      "S1002        21\n"
     ]
    }
   ],
   "source": [
    "print(df_sid.loc[\"S1001\":\"S1003\", \"age\":\"gender\"]) # 2D slicing \n",
    "print(df_sid.iloc[1:3, 0:1]) # .iloc 2D slicing omits last value"
   ]
  },
  {
   "cell_type": "code",
   "execution_count": 130,
   "metadata": {},
   "outputs": [
    {
     "name": "stdout",
     "output_type": "stream",
     "text": [
      "gender    Female      Male     Other\n",
      "age                                 \n",
      "17      2.344828  2.413043  2.600000\n",
      "18      2.720339  2.648148  2.375000\n",
      "19      2.372131  2.636735  2.200000\n",
      "20      2.420270  2.692308  3.142857\n",
      "21      2.547619  2.574545  1.714286\n",
      "22      2.370000  2.521569  2.300000\n",
      "23      2.515686  2.374194  3.133333\n",
      "24      2.783636  2.237500  2.828571\n"
     ]
    }
   ],
   "source": [
    "# mean of pivot tables\n",
    "smh_by_age_gender = df.pivot_table(index=\"age\", columns=\"gender\", values=\"social_media_hours\", aggfunc=\"mean\")\n",
    "print(smh_by_age_gender)"
   ]
  },
  {
   "cell_type": "code",
   "execution_count": 134,
   "metadata": {},
   "outputs": [
    {
     "data": {
      "text/plain": [
       "gender\n",
       "Female    2.344828\n",
       "Male      2.413043\n",
       "Other     2.600000\n",
       "Name: 17, dtype: float64"
      ]
     },
     "execution_count": 134,
     "metadata": {},
     "output_type": "execute_result"
    }
   ],
   "source": [
    "# using .loc to get values\n",
    "smh_by_age_gender.loc[17]"
   ]
  },
  {
   "cell_type": "code",
   "execution_count": 137,
   "metadata": {},
   "outputs": [
    {
     "name": "stdout",
     "output_type": "stream",
     "text": [
      "gender\n",
      "Female    2.509314\n",
      "Male      2.512255\n",
      "Other     2.536756\n",
      "dtype: float64\n",
      "\n",
      "\n",
      "age\n",
      "17    2.452624\n",
      "18    2.581162\n",
      "19    2.402955\n",
      "20    2.751812\n",
      "21    2.278817\n",
      "22    2.397190\n",
      "23    2.674404\n",
      "24    2.616569\n",
      "dtype: float64\n"
     ]
    }
   ],
   "source": [
    "# mean of gender (compress rows)\n",
    "print(smh_by_age_gender.mean(axis=\"rows\"))\n",
    "\n",
    "print(\"\\n\")\n",
    "\n",
    "# mean of age (compress columns)\n",
    "print(smh_by_age_gender.mean(axis=\"columns\"))\n",
    "\n"
   ]
  }
 ],
 "metadata": {
  "kernelspec": {
   "display_name": ".venv",
   "language": "python",
   "name": "python3"
  },
  "language_info": {
   "codemirror_mode": {
    "name": "ipython",
    "version": 3
   },
   "file_extension": ".py",
   "mimetype": "text/x-python",
   "name": "python",
   "nbconvert_exporter": "python",
   "pygments_lexer": "ipython3",
   "version": "3.13.1"
  }
 },
 "nbformat": 4,
 "nbformat_minor": 2
}
