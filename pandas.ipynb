{
 "cells": [
  {
   "cell_type": "markdown",
   "metadata": {},
   "source": [
    "# Pandas Notes\n",
    "\n",
    "Sample data is installed from kaggle: https://www.kaggle.com/datasets/jayaantanaath/student-habits-vs-academic-performance"
   ]
  },
  {
   "cell_type": "code",
   "execution_count": 27,
   "metadata": {},
   "outputs": [
    {
     "name": "stdout",
     "output_type": "stream",
     "text": [
      "Index(['student_id', 'age', 'gender', 'study_hours_per_day',\n",
      "       'social_media_hours', 'netflix_hours', 'part_time_job',\n",
      "       'attendance_percentage', 'sleep_hours', 'diet_quality',\n",
      "       'exercise_frequency', 'parental_education_level', 'internet_quality',\n",
      "       'mental_health_rating', 'extracurricular_participation', 'exam_score'],\n",
      "      dtype='object')\n"
     ]
    }
   ],
   "source": [
    "import pandas as pd\n",
    "\n",
    "## import csv file\n",
    "df_full = pd.read_csv(\"student_habits_performance.csv\")\n",
    "print(df_full.columns)"
   ]
  },
  {
   "cell_type": "code",
   "execution_count": 28,
   "metadata": {},
   "outputs": [
    {
     "name": "stdout",
     "output_type": "stream",
     "text": [
      "  student_id  age  gender  study_hours_per_day  social_media_hours\n",
      "0      S1000   23  Female                  0.0                 1.2\n",
      "1      S1001   20  Female                  6.9                 2.8\n",
      "2      S1002   21    Male                  1.4                 3.1\n",
      "3      S1003   23  Female                  1.0                 3.9\n",
      "4      S1004   19  Female                  5.0                 4.4\n"
     ]
    }
   ],
   "source": [
    "## Select specific columns of dataframe\n",
    "df = df_full[[\"student_id\", \"age\", \"gender\",\"study_hours_per_day\",\"social_media_hours\"]]\n",
    "print(df.head())"
   ]
  },
  {
   "cell_type": "code",
   "execution_count": 29,
   "metadata": {},
   "outputs": [
    {
     "name": "stdout",
     "output_type": "stream",
     "text": [
      "Index(['student_id', 'age', 'gender', 'study_hours_per_day',\n",
      "       'social_media_hours'],\n",
      "      dtype='object') \n",
      "\n",
      "(1000, 5)\n"
     ]
    }
   ],
   "source": [
    "## print basic information of dataframe\n",
    "\n",
    "print(df.columns, \"\\n\")\n",
    "print(df.shape)"
   ]
  },
  {
   "cell_type": "code",
   "execution_count": 30,
   "metadata": {},
   "outputs": [
    {
     "name": "stdout",
     "output_type": "stream",
     "text": [
      "    student_id  age  gender  study_hours_per_day  social_media_hours\n",
      "58       S1058   19  Female                  2.2                 5.0\n",
      "145      S1145   23  Female                  2.2                 6.2\n",
      "311      S1311   23  Female                  2.6                 5.3\n",
      "368      S1368   19  Female                  2.8                 5.0\n",
      "384      S1384   21  Female                  2.6                 5.4\n"
     ]
    }
   ],
   "source": [
    "## Conditional subset \n",
    "\n",
    "female_df_high = df[(df[\"gender\"]==\"Female\") & (df[\"social_media_hours\"]>=5)]\n",
    "print(female_df_high.head())"
   ]
  },
  {
   "cell_type": "code",
   "execution_count": 32,
   "metadata": {},
   "outputs": [
    {
     "name": "stdout",
     "output_type": "stream",
     "text": [
      "    student_id  age  gender  study_hours_per_day  social_media_hours\n",
      "678      S1678   18  Female                  3.5                 5.2\n",
      "414      S1414   19  Female                  4.2                 5.6\n",
      "58       S1058   19  Female                  2.2                 5.0\n",
      "368      S1368   19  Female                  2.8                 5.0\n",
      "384      S1384   21  Female                  2.6                 5.4\n",
      "145      S1145   23  Female                  2.2                 6.2\n",
      "311      S1311   23  Female                  2.6                 5.3\n",
      "829      S1829   24  Female                  4.1                 5.4\n"
     ]
    }
   ],
   "source": [
    "## Sort by age then social_media_hours \n",
    "\n",
    "female_df_high = female_df_high.sort_values([\"age\", \"social_media_hours\"], ascending=[True, False])\n",
    "print(female_df_high)"
   ]
  },
  {
   "cell_type": "code",
   "execution_count": null,
   "metadata": {},
   "outputs": [
    {
     "name": "stdout",
     "output_type": "stream",
     "text": [
      "exercise_frequency\n",
      "0    144\n",
      "1    146\n",
      "2    122\n",
      "3    153\n",
      "4    134\n",
      "5    149\n",
      "6    152\n",
      "Name: count, dtype: int64\n"
     ]
    }
   ],
   "source": [
    "## Count values of 'exercise_frequency'\n",
    "\n",
    "print(df_full['exercise_frequency'].value_counts().sort_index())"
   ]
  },
  {
   "cell_type": "code",
   "execution_count": null,
   "metadata": {},
   "outputs": [],
   "source": []
  }
 ],
 "metadata": {
  "kernelspec": {
   "display_name": ".venv",
   "language": "python",
   "name": "python3"
  },
  "language_info": {
   "codemirror_mode": {
    "name": "ipython",
    "version": 3
   },
   "file_extension": ".py",
   "mimetype": "text/x-python",
   "name": "python",
   "nbconvert_exporter": "python",
   "pygments_lexer": "ipython3",
   "version": "3.13.1"
  }
 },
 "nbformat": 4,
 "nbformat_minor": 2
}
